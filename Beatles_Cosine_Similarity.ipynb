{
  "nbformat": 4,
  "nbformat_minor": 0,
  "metadata": {
    "colab": {
      "name": "Beatles Cosine Similarity",
      "provenance": [],
      "collapsed_sections": []
    },
    "kernelspec": {
      "name": "python3",
      "display_name": "Python 3"
    },
    "language_info": {
      "name": "python"
    }
  },
  "cells": [
    {
      "cell_type": "code",
      "execution_count": null,
      "metadata": {
        "id": "ebrrQkjPbKPZ"
      },
      "outputs": [],
      "source": [
        "\n",
        "\n",
        "# Strawberry Fields - John Lennon (not disputed)\n",
        "\n",
        "Strawberry_ = \"let me take you down cause Im going to Strawberry Fields nothing is real and nothing to get hung about Strawberry Fields forever living is easy with eyes closed misunderstanding all you see its getting hard to be someone but it all works out it doesnt matter much to me let me take you down cause Im going to Strawberry Fields nothing is real and nothing to get hung about Strawberry Fields forever no one I think is in my tree I mean it must be high or low that is you cant you know tune in but its all right that is I think its not too bad let me take you down cause Im going to Strawberry Fields nothing is real and nothing to get hung about Strawberry Fields forever always no sometimes think but you know I know when it's a dream I think er no I mean er yes but its all wrong that is I think I disagree let me take you down cause Im going to Strawberry Fields nothing is real and nothing to get hung about Strawberry Fields forever Strawberry Fields forever Strawberry Fields forever\"\n",
        "Strawberry_df = pd.DataFrame({\"Words\": Strawberry_.split()})\n",
        "Strawberry_df_freq = pd.DataFrame(pd.crosstab(index=Strawberry_df['Words'],columns='count'))\n",
        "\n",
        "\n",
        "Strawberry_df_freq[0:50]\n",
        "\n",
        "\n",
        "# From Me to You - Lennon and McCartney (not disputed)\n",
        "\n",
        "Me_ = \"if there's anything that you want if there's anything I can do just call on me and Ill send it along with love from me to you Ive got everything that you want like a heart thats oh so true just call on me and Ill send it along with love from me to you Ive got arms that long to hold you and keep you by my side Ive got lips that long to kiss you and keep you satisfied oh if theres anything that you want if theres anything I can do just call on me and Ill send it along with love from me to you from me to you just call on me and Ill send it along with love from me to you Ive got arms that long to hold you and keep you by my side Ive got lips that long to kiss you and keep you satisfied oh if theres anything that you want if theres anything I can do just call on me and Ill send it along with love from me to you to you to you to you\"\n",
        "Me_df = pd.DataFrame({\"Words\": Me_.split()})\n",
        "Me_df_freq = pd.DataFrame(pd.crosstab(index=Me_df['Words'],columns='count'))\n",
        "\n",
        "\n",
        "Me_df_freq[0:50]\n",
        "\n",
        "\n",
        "# Ticket to Ride (disputed)\n",
        "\n",
        "Ticket_ = \"I think Im gonna be sad I think its today yeah the girl thats driving me mad is going away shes got a ticket to ride shes got a ticket to ride shes got a ticket to ride but she dont care she said that living with me is bringing her down yeah for she would never be free when I was around shes got a ticket to ride shes got a ticket to ride shes got a ticket to ride but she dont care I dont know why shes ridin so high she ought to think twice she ought to do right by me before she gets to saying goodbye she ought to think twice she ought to do right by me I think Im gonna be sad I think its today yeah the girl thats driving me mad is going away yeah shes got a ticket to ride shes got a ticket to ride shes got a ticket to ride but she dont care I dont know why shes ridin so high she ought to think twice she ought to do right by me before she gets to saying goodbye she ought to think twice she ought to do right by me she said that living with me is bringing her down yeah for she would never be free when I was around ah shes got a ticket to ride shes got a ticket to ride shes got a ticket to ride but she dont care my baby dont care my baby dont care my baby dont care my baby dont care my baby dont care my baby dont care\"\n",
        "Ticket_df = pd.DataFrame({\"Words\": Ticket_.split()})\n",
        "Ticket_df_freq = pd.DataFrame(pd.crosstab(index=Ticket_df['Words'],columns='count'))\n",
        "\n",
        "\n",
        "Ticket_df_freq[0:50]"
      ]
    },
    {
      "cell_type": "code",
      "source": [
        "# Compare 'Strawberry Fields' to 'Ticket to Ride'\n",
        "\n",
        "# Imports for linear algebra\n",
        "from numpy import dot\n",
        "from numpy.linalg import norm\n",
        "\n",
        "dfs = [Strawberry_df_freq, Ticket_df_freq]\n",
        "concat1 = pd.concat(dfs, axis = 1)\n",
        "concat1.columns = ['Strawberry', 'Ticket To Ride']\n",
        "concat1 = concat1.fillna(0)\n",
        "\n",
        "cos_sim_1 = dot(concat1['Strawberry'], concat1['Ticket To Ride']) / (norm(concat1['Strawberry']) * norm(concat1['Ticket To Ride']))\n",
        "# Print out result\n",
        "print(cos_sim_1)"
      ],
      "metadata": {
        "id": "w-uzyNsNcmYY"
      },
      "execution_count": null,
      "outputs": []
    },
    {
      "cell_type": "code",
      "source": [
        "# Compare From Me to You to Ticket to Ride\n",
        "\n",
        "dfs2 = [Ticket_df_freq, Me_df_freq]\n",
        "concat2 = pd.concat(dfs2, axis = 1)\n",
        "concat2.columns = ['Ticket To Ride', 'From Me To You']\n",
        "concat2 = concat2.fillna(0)\n",
        "\n",
        "cos_sim_2 = dot(concat2['Ticket To Ride'], concat2['From Me To You']) / (norm(concat2['Ticket To Ride']) * norm(concat2['From Me To You']))\n",
        "# Print out result\n",
        "print(cos_sim_2)"
      ],
      "metadata": {
        "id": "1ctdLwR3djGX"
      },
      "execution_count": null,
      "outputs": []
    }
  ]
}