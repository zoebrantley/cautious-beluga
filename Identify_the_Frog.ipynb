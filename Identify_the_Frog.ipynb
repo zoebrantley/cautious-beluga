{
  "nbformat": 4,
  "nbformat_minor": 0,
  "metadata": {
    "colab": {
      "name": "Identify the Frog",
      "provenance": []
    },
    "kernelspec": {
      "name": "python3",
      "display_name": "Python 3"
    },
    "language_info": {
      "name": "python"
    }
  },
  "cells": [
    {
      "cell_type": "code",
      "source": [
        "# Imports\n",
        "import numpy as np\n",
        "import matplotlib.pyplot as plt\n",
        "\n",
        "from tensorflow.keras.applications.resnet_v2 import ResNet50V2 #\n",
        "from tensorflow.keras.preprocessing import image\n",
        "from tensorflow.keras.applications.resnet_v2 import preprocess_input, decode_predictions\n",
        "from skimage.io import imread\n",
        "from skimage.transform import resize "
      ],
      "metadata": {
        "id": "T_UlXUxv4v93"
      },
      "execution_count": null,
      "outputs": []
    },
    {
      "cell_type": "code",
      "execution_count": null,
      "metadata": {
        "id": "_faO8Vbu4UTi"
      },
      "outputs": [],
      "source": [
        "# Text file of image URLs\n",
        "text_file = \"https://raw.githubusercontent.com/bloominstituteoftechnology/data-science-canvas-images/main/unit_4/sprint_challenge_files/frog_image_url.txt\"\n",
        "# data = urllib.request.urlopen(text_file)\n",
        "\n",
        "# Create list of image URLs\n",
        "url_list = [] \n",
        "for line in data:\n",
        "    url_list.append(line.decode('utf-8'))"
      ]
    },
    {
      "cell_type": "code",
      "source": [
        "# create list to hold images\n",
        "image_list = []\n",
        "\n",
        "#loop through URLs and add them to image_list\n",
        "for url in url_list:\n",
        "    image_list.append(imread(url))"
      ],
      "metadata": {
        "id": "Oy019ddp4Z7g"
      },
      "execution_count": null,
      "outputs": []
    },
    {
      "cell_type": "code",
      "source": [
        "#load images\n",
        "image_list = [imread(url) for url in url_list]\n",
        "#resize images to be the same size\n",
        "image_list = [resize(image, (224, 224)) for image in image_list]"
      ],
      "metadata": {
        "id": "VwgllnAA5RMl"
      },
      "execution_count": null,
      "outputs": []
    },
    {
      "cell_type": "code",
      "source": [
        "#expand dimensions to be a 3D vector\n",
        "x = np.expand_dims(image_list[0], axis= 0)"
      ],
      "metadata": {
        "id": "hwkHCF795n7F"
      },
      "execution_count": null,
      "outputs": []
    },
    {
      "cell_type": "code",
      "source": [
        "#instantiate ResNet50V2 model\n",
        "resnet_model = ResNet50V2(weights='imagenet')\n",
        "#give the model features to predict\n",
        "features = resnet_model.predict(x)\n",
        "#decode predictions\n",
        "results = decode_predictions(features, top=5)[0]\n"
      ],
      "metadata": {
        "id": "bBWnxRMf5oFw"
      },
      "execution_count": null,
      "outputs": []
    },
    {
      "cell_type": "code",
      "source": [
        ""
      ],
      "metadata": {
        "id": "IZ1jMW4T5oSe"
      },
      "execution_count": null,
      "outputs": []
    }
  ]
}