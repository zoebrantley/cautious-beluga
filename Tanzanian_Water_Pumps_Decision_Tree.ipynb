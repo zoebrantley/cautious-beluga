{
  "nbformat": 4,
  "nbformat_minor": 0,
  "metadata": {
    "colab": {
      "name": "Tanzanian Water Pumps -- Decision Tree",
      "provenance": [],
      "collapsed_sections": []
    },
    "kernelspec": {
      "name": "python3",
      "display_name": "Python 3"
    },
    "language_info": {
      "name": "python"
    }
  },
  "cells": [
    {
      "cell_type": "code",
      "source": [
        "%%capture \n",
        "!pip install category_encoders==2.*\n",
        "!pip install pandas_profiling==2.*"
      ],
      "metadata": {
        "id": "T-AoKn9M_LfH"
      },
      "execution_count": null,
      "outputs": []
    },
    {
      "cell_type": "code",
      "execution_count": null,
      "metadata": {
        "colab": {
          "base_uri": "https://localhost:8080/"
        },
        "id": "W4PjYsm-86KC",
        "outputId": "94e324b8-d9e9-4278-88eb-5368bab25fa2"
      },
      "outputs": [
        {
          "output_type": "stream",
          "name": "stderr",
          "text": [
            "/usr/local/lib/python3.7/dist-packages/statsmodels/tools/_testing.py:19: FutureWarning: pandas.util.testing is deprecated. Use the functions in the public API at pandas.testing instead.\n",
            "  import pandas.util.testing as tm\n"
          ]
        }
      ],
      "source": [
        "import pandas as pd\n",
        "import numpy as np\n",
        "import matplotlib.pyplot as plt\n",
        "from sklearn.model_selection import train_test_split\n",
        "from sklearn.pipeline import make_pipeline\n",
        "from category_encoders import OrdinalEncoder\n",
        "from sklearn.impute import SimpleImputer\n",
        "from sklearn.linear_model import LogisticRegression\n",
        "from sklearn.metrics import accuracy_score\n",
        "from sklearn.tree import DecisionTreeClassifier\n",
        "from pandas_profiling import ProfileReport\n",
        "#from google.colab import drive\n",
        "#drive.mount('/content/gdrive')"
      ]
    },
    {
      "cell_type": "code",
      "source": [
        "%cd /content/gdrive/My Drive/Kaggle"
      ],
      "metadata": {
        "colab": {
          "base_uri": "https://localhost:8080/"
        },
        "id": "U7yv2xl-8_ki",
        "outputId": "4d14ac0a-300a-4f61-e5f6-ca3dabb9b151"
      },
      "execution_count": null,
      "outputs": [
        {
          "output_type": "stream",
          "name": "stdout",
          "text": [
            "/content/gdrive/My Drive/Kaggle\n"
          ]
        }
      ]
    },
    {
      "cell_type": "code",
      "source": [
        "!ls"
      ],
      "metadata": {
        "colab": {
          "base_uri": "https://localhost:8080/"
        },
        "id": "r9zy1H-Z9Eky",
        "outputId": "5b71e7fd-4910-47d4-c712-af8ddd4498df"
      },
      "execution_count": null,
      "outputs": [
        {
          "output_type": "stream",
          "name": "stdout",
          "text": [
            "kaggle.json\t    sample_submission.csv  train_features.csv\n",
            "new_submission.csv  test_features.csv\t   train_labels.csv\n"
          ]
        }
      ]
    },
    {
      "cell_type": "code",
      "source": [
        "train = pd.merge(pd.read_csv('train_features.csv'), pd.read_csv('train_labels.csv'))"
      ],
      "metadata": {
        "id": "KDu2LO609F-W"
      },
      "execution_count": null,
      "outputs": []
    },
    {
      "cell_type": "code",
      "source": [
        "train.shape"
      ],
      "metadata": {
        "colab": {
          "base_uri": "https://localhost:8080/"
        },
        "id": "V6LIeT50Ho2s",
        "outputId": "f4ac6900-6221-4864-d26a-1fed9781e3e8"
      },
      "execution_count": null,
      "outputs": [
        {
          "output_type": "execute_result",
          "data": {
            "text/plain": [
              "(47520, 41)"
            ]
          },
          "metadata": {},
          "execution_count": 13
        }
      ]
    },
    {
      "cell_type": "code",
      "source": [
        "def wrangle(df):\n",
        "  \n",
        "  df.set_index('id', inplace = True)\n",
        "\n",
        "  df.drop(columns = ['recorded_by', 'scheme_name', 'ward'], inplace = True)\n",
        "\n",
        "  df.drop(columns= ['quantity_group', 'waterpoint_type_group', 'source_type'], inplace = True)\n",
        "\n",
        "  cols_to_drop = [col for col in df.select_dtypes('object') if df[col].nunique() > 200]\n",
        "  df.drop(columns = cols_to_drop, inplace = True)\n",
        "  \n",
        "  df.drop(columns = 'num_private', inplace = True)\n",
        "\n",
        "  return df\n",
        "train = wrangle(train)"
      ],
      "metadata": {
        "id": "kukn0lyk-Izn"
      },
      "execution_count": null,
      "outputs": []
    },
    {
      "cell_type": "code",
      "source": [
        "train.isna().sum()"
      ],
      "metadata": {
        "colab": {
          "base_uri": "https://localhost:8080/"
        },
        "id": "UN3FLpbFCXfY",
        "outputId": "4f87dd09-07a3-42f1-f9da-96f4c8d28d59"
      },
      "execution_count": null,
      "outputs": [
        {
          "output_type": "execute_result",
          "data": {
            "text/plain": [
              "amount_tsh                  0\n",
              "gps_height                  0\n",
              "longitude                   0\n",
              "latitude                    0\n",
              "basin                       0\n",
              "region                      0\n",
              "region_code                 0\n",
              "district_code               0\n",
              "lga                         0\n",
              "population                  0\n",
              "public_meeting           2689\n",
              "scheme_management        3102\n",
              "permit                   2439\n",
              "construction_year           0\n",
              "extraction_type             0\n",
              "extraction_type_group       0\n",
              "extraction_type_class       0\n",
              "management                  0\n",
              "management_group            0\n",
              "payment                     0\n",
              "payment_type                0\n",
              "water_quality               0\n",
              "quality_group               0\n",
              "quantity                    0\n",
              "source                      0\n",
              "source_class                0\n",
              "waterpoint_type             0\n",
              "status_group                0\n",
              "dtype: int64"
            ]
          },
          "metadata": {},
          "execution_count": 15
        }
      ]
    },
    {
      "cell_type": "code",
      "source": [
        "target = 'status_group'\n",
        "y = train[target]\n",
        "X = train.drop(columns = target)"
      ],
      "metadata": {
        "id": "EPtYUNYnARzZ"
      },
      "execution_count": null,
      "outputs": []
    },
    {
      "cell_type": "code",
      "source": [
        "X_train, X_val, y_train, y_val = train_test_split(X, y, test_size = .2, random_state = 42)"
      ],
      "metadata": {
        "id": "TAT24qgSAlSE"
      },
      "execution_count": null,
      "outputs": []
    },
    {
      "cell_type": "code",
      "source": [
        "y_train.value_counts(normalize= True)"
      ],
      "metadata": {
        "colab": {
          "base_uri": "https://localhost:8080/"
        },
        "id": "In8Y8LTeBYSK",
        "outputId": "db947e1d-fc37-4441-ef36-f24dc937c20b"
      },
      "execution_count": null,
      "outputs": [
        {
          "output_type": "execute_result",
          "data": {
            "text/plain": [
              "functional                 0.544087\n",
              "non functional             0.381866\n",
              "functional needs repair    0.074048\n",
              "Name: status_group, dtype: float64"
            ]
          },
          "metadata": {},
          "execution_count": 18
        }
      ]
    },
    {
      "cell_type": "code",
      "source": [
        "print('Baseline Accuracy:',y_train.value_counts(normalize=True).max())"
      ],
      "metadata": {
        "colab": {
          "base_uri": "https://localhost:8080/"
        },
        "id": "elBdjbb_BdVj",
        "outputId": "fc3a259a-3fd7-4c7e-ed54-d790b6d774ee"
      },
      "execution_count": null,
      "outputs": [
        {
          "output_type": "stream",
          "name": "stdout",
          "text": [
            "Baseline Accuracy: 0.5440867003367004\n"
          ]
        }
      ]
    },
    {
      "cell_type": "code",
      "source": [
        "model = make_pipeline(\n",
        "    SimpleImputer(strategy = 'most_frequent'),\n",
        "    OrdinalEncoder(),\n",
        "    DecisionTreeClassifier(random_state = 42)\n",
        ")\n",
        "\n",
        "model.fit(X_train, y_train)"
      ],
      "metadata": {
        "colab": {
          "base_uri": "https://localhost:8080/"
        },
        "id": "ikxJHbeCDPGl",
        "outputId": "cdc63c1f-743c-4901-a7c6-aee874f65fdb"
      },
      "execution_count": null,
      "outputs": [
        {
          "output_type": "execute_result",
          "data": {
            "text/plain": [
              "Pipeline(steps=[('simpleimputer', SimpleImputer(strategy='most_frequent')),\n",
              "                ('ordinalencoder',\n",
              "                 OrdinalEncoder(cols=[0, 1, 2, 3, 4, 5, 6, 7, 8, 9, 10, 11, 12,\n",
              "                                      13, 14, 15, 16, 17, 18, 19, 20, 21, 22,\n",
              "                                      23, 24, 25, 26],\n",
              "                                mapping=[{'col': 0, 'data_type': dtype('O'),\n",
              "                                          'mapping': 0.0          1\n",
              "30.0         2\n",
              "50.0         3\n",
              "250.0        4\n",
              "200.0        5\n",
              "            ..\n",
              "5400.0      88\n",
              "200000.0    89\n",
              "306.0       90\n",
              "220.0       91\n",
              "NaN         -2\n",
              "Length: 92, dtype: int64},\n",
              "                                         {'col': 1, 'data_type': dtype...\n",
              "hand dtw                 8\n",
              "other                    9\n",
              "unknown                 10\n",
              "NaN                     -2\n",
              "dtype: int64},\n",
              "                                         {'col': 25, 'data_type': dtype('O'),\n",
              "                                          'mapping': groundwater    1\n",
              "surface        2\n",
              "unknown        3\n",
              "NaN           -2\n",
              "dtype: int64},\n",
              "                                         {'col': 26, 'data_type': dtype('O'),\n",
              "                                          'mapping': hand pump                      1\n",
              "communal standpipe             2\n",
              "communal standpipe multiple    3\n",
              "other                          4\n",
              "improved spring                5\n",
              "cattle trough                  6\n",
              "dam                            7\n",
              "NaN                           -2\n",
              "dtype: int64}])),\n",
              "                ('decisiontreeclassifier',\n",
              "                 DecisionTreeClassifier(random_state=42))])"
            ]
          },
          "metadata": {},
          "execution_count": 23
        }
      ]
    },
    {
      "cell_type": "code",
      "source": [
        "X_train.columns"
      ],
      "metadata": {
        "colab": {
          "base_uri": "https://localhost:8080/"
        },
        "id": "UbpN6KhDF14G",
        "outputId": "3d681f59-faaf-4f16-a220-37ae978320b8"
      },
      "execution_count": null,
      "outputs": [
        {
          "output_type": "execute_result",
          "data": {
            "text/plain": [
              "Index(['amount_tsh', 'gps_height', 'longitude', 'latitude', 'basin', 'region',\n",
              "       'region_code', 'district_code', 'lga', 'population', 'public_meeting',\n",
              "       'scheme_management', 'permit', 'construction_year', 'extraction_type',\n",
              "       'extraction_type_group', 'extraction_type_class', 'management',\n",
              "       'management_group', 'payment', 'payment_type', 'water_quality',\n",
              "       'quality_group', 'quantity', 'source', 'source_type', 'source_class',\n",
              "       'waterpoint_type', 'waterpoint_type_group'],\n",
              "      dtype='object')"
            ]
          },
          "metadata": {},
          "execution_count": 21
        }
      ]
    },
    {
      "cell_type": "code",
      "source": [
        "print('Accuracy Score for Training:', accuracy_score(y_train, model.predict(X_train)))\n",
        "print('Accuracy Score for Validation:', accuracy_score(y_val, model.predict(X_val)))"
      ],
      "metadata": {
        "colab": {
          "base_uri": "https://localhost:8080/"
        },
        "id": "IY-kPp-HDqEi",
        "outputId": "f0edc849-eceb-44ae-cf42-9d1c438811b7"
      },
      "execution_count": null,
      "outputs": [
        {
          "output_type": "stream",
          "name": "stdout",
          "text": [
            "Accuracy Score for Training: 0.9951073232323232\n",
            "Accuracy Score for Validation: 0.6221590909090909\n"
          ]
        }
      ]
    },
    {
      "cell_type": "code",
      "source": [
        "gini = model.named_steps['decisiontreeclassifier'].feature_importances_\n",
        "features = model.named_steps['ordinalencoder'].get_feature_names()\n",
        "\n",
        "pd.Series(data=gini, index=features).sort_values(key=abs).tail(10).plot(kind='barh')\n",
        "plt.ylabel('Features')\n",
        "plt.xlabel('Gini Importance');"
      ],
      "metadata": {
        "colab": {
          "base_uri": "https://localhost:8080/",
          "height": 279
        },
        "id": "KClT6DtlEJJu",
        "outputId": "6aefce85-d0ba-4731-8fcd-e18605e8b3e3"
      },
      "execution_count": null,
      "outputs": [
        {
          "output_type": "display_data",
          "data": {
            "text/plain": [
              "<Figure size 432x288 with 1 Axes>"
            ],
            "image/png": "[encoded data removed]"
          },
          "metadata": {
            "needs_background": "light"
          }
        }
      ]
    },
    {
      "cell_type": "code",
      "source": [
        "X_test = pd.read_csv('test_features.csv')\n",
        "X_test = wrangle(X_test)"
      ],
      "metadata": {
        "id": "oIClQ_4sEb8l"
      },
      "execution_count": null,
      "outputs": []
    },
    {
      "cell_type": "code",
      "source": [
        "predictions = pd.DataFrame(data = model.predict(X_test), index = X_test.index)"
      ],
      "metadata": {
        "id": "uz42pv5SE0uX"
      },
      "execution_count": null,
      "outputs": []
    },
    {
      "cell_type": "code",
      "source": [
        "predictions.columns = ['status_group']\n",
        "\n",
        "predictions.to_csv('new_submission.csv')"
      ],
      "metadata": {
        "id": "UdmNS_nsFDp7"
      },
      "execution_count": null,
      "outputs": []
    },
    {
      "cell_type": "code",
      "source": [
        "from google.colab import files\n",
        "files.download('new_submission.csv')"
      ],
      "metadata": {
        "colab": {
          "base_uri": "https://localhost:8080/",
          "height": 17
        },
        "id": "gdnQcK5eFGrE",
        "outputId": "95184a69-87ef-4e1c-ffa3-aedc53965e7b"
      },
      "execution_count": null,
      "outputs": [
        {
          "output_type": "display_data",
          "data": {
            "text/plain": [
              "<IPython.core.display.Javascript object>"
            ],
            "application/javascript": [
              "\n",
              "    async function download(id, filename, size) {\n",
              "      if (!google.colab.kernel.accessAllowed) {\n",
              "        return;\n",
              "      }\n",
              "      const div = document.createElement('div');\n",
              "      const label = document.createElement('label');\n",
              "      label.textContent = `Downloading \"${filename}\": `;\n",
              "      div.appendChild(label);\n",
              "      const progress = document.createElement('progress');\n",
              "      progress.max = size;\n",
              "      div.appendChild(progress);\n",
              "      document.body.appendChild(div);\n",
              "\n",
              "      const buffers = [];\n",
              "      let downloaded = 0;\n",
              "\n",
              "      const channel = await google.colab.kernel.comms.open(id);\n",
              "      // Send a message to notify the kernel that we're ready.\n",
              "      channel.send({})\n",
              "\n",
              "      for await (const message of channel.messages) {\n",
              "        // Send a message to notify the kernel that we're ready.\n",
              "        channel.send({})\n",
              "        if (message.buffers) {\n",
              "          for (const buffer of message.buffers) {\n",
              "            buffers.push(buffer);\n",
              "            downloaded += buffer.byteLength;\n",
              "            progress.value = downloaded;\n",
              "          }\n",
              "        }\n",
              "      }\n",
              "      const blob = new Blob(buffers, {type: 'application/binary'});\n",
              "      const a = document.createElement('a');\n",
              "      a.href = window.URL.createObjectURL(blob);\n",
              "      a.download = filename;\n",
              "      div.appendChild(a);\n",
              "      a.click();\n",
              "      div.remove();\n",
              "    }\n",
              "  "
            ]
          },
          "metadata": {}
        },
        {
          "output_type": "display_data",
          "data": {
            "text/plain": [
              "<IPython.core.display.Javascript object>"
            ],
            "application/javascript": [
              "download(\"download_a259d0cd-e9f6-4cee-b4fe-74e1420e65be\", \"new_submission.csv\", 233845)"
            ]
          },
          "metadata": {}
        }
      ]
    },
    {
      "cell_type": "code",
      "source": [
        "predictions.shape"
      ],
      "metadata": {
        "colab": {
          "base_uri": "https://localhost:8080/"
        },
        "id": "TkmIDHLHFOPA",
        "outputId": "ac2d7ebf-aab2-4c06-dbca-d02173dabefc"
      },
      "execution_count": null,
      "outputs": [
        {
          "output_type": "execute_result",
          "data": {
            "text/plain": [
              "(11880, 1)"
            ]
          },
          "metadata": {},
          "execution_count": 30
        }
      ]
    }
  ]
}