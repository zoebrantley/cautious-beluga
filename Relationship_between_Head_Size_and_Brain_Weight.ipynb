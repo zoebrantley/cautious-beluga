{
  "nbformat": 4,
  "nbformat_minor": 0,
  "metadata": {
    "colab": {
      "name": "Relationship between Head Size and Brain Weight",
      "provenance": [],
      "collapsed_sections": []
    },
    "kernelspec": {
      "name": "python3",
      "display_name": "Python 3"
    },
    "language_info": {
      "name": "python"
    }
  },
  "cells": [
    {
      "cell_type": "code",
      "execution_count": null,
      "metadata": {
        "id": "_ldD-wdhheoC"
      },
      "outputs": [],
      "source": [
        "import pandas as pd\n",
        "import numpy as np\n",
        "from statsmodels.formula.api import ols\n",
        "import seaborn as sns\n",
        "\n",
        "data_url = 'https://raw.githubusercontent.com/LambdaSchool/data-science-practice-datasets/main/unit_1/Brainhead/Brainhead.csv'\n",
        "\n",
        "df= pd.read_csv(data_url)\n",
        "\n",
        "# Print out your DataFrame\n",
        "df.head()"
      ]
    },
    {
      "cell_type": "code",
      "source": [
        "model = ols(\"Brain ~ Head\", data=df).fit()\n",
        "\n",
        "# Print the model summary\n",
        "print(model.summary())"
      ],
      "metadata": {
        "id": "RofkKKM4huc6"
      },
      "execution_count": null,
      "outputs": []
    },
    {
      "cell_type": "code",
      "source": [
        "df['Age_01'] = df['Age'] - 1\n",
        "df['Gender_01'] = df['Gender'] -1\n",
        "df.head()"
      ],
      "metadata": {
        "id": "ligpawpCh37C"
      },
      "execution_count": null,
      "outputs": []
    },
    {
      "cell_type": "code",
      "source": [
        "model_2 = ols('Brain ~ Head +C(Age_01)', data=df).fit()\n",
        "\n",
        "# Print the model summary\n",
        "print(model_2.summary())"
      ],
      "metadata": {
        "id": "bOCnXfr8iGqA"
      },
      "execution_count": null,
      "outputs": []
    },
    {
      "cell_type": "code",
      "source": [
        "model_3 = ols('Brain ~ Head +C(Gender_01)', data=df).fit()\n",
        "\n",
        "# Print the model summary\n",
        "print(model_3.summary())"
      ],
      "metadata": {
        "id": "2_fwowiHiT_0"
      },
      "execution_count": null,
      "outputs": []
    },
    {
      "cell_type": "code",
      "source": [
        "sns.lmplot(x=\"Head\", y=\"Brain\", hue=\"Age_01\", data=df, ci=None)"
      ],
      "metadata": {
        "id": "zlq1RJwbiUGs"
      },
      "execution_count": null,
      "outputs": []
    },
    {
      "cell_type": "code",
      "source": [
        "x1= 1\n",
        "x2= 4000\n",
        "\n",
        "intercept, slope1, slope2 = model_2.params\n",
        "\n",
        "predicted = intercept + slope1*x1 + slope2*x2\n",
        "# Print out variables to troubleshoot!\n",
        "#print('slope 2:', slope1)\n",
        "\n",
        "# View your prediction\n",
        "print('The predicted value for brain size is:', predicted)\n"
      ],
      "metadata": {
        "id": "hclcnxOFiiuo"
      },
      "execution_count": null,
      "outputs": []
    },
    {
      "cell_type": "code",
      "source": [
        "x1= 0\n",
        "x2= 3900\n",
        "\n",
        "intercept, slope1, slope2 = model_2.params\n",
        "\n",
        "predicted_2 = intercept + slope1*x1 + slope2*x2\n",
        "\n",
        "# View your prediction\n",
        "print('The predicted value for brain size is:', predicted_2)"
      ],
      "metadata": {
        "id": "nOwYqflgirVL"
      },
      "execution_count": null,
      "outputs": []
    }
  ]
}